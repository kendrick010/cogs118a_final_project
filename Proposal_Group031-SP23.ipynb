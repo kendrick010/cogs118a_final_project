{
 "cells": [
  {
   "cell_type": "markdown",
   "metadata": {},
   "source": [
    "# COGS 118A- Project Proposal"
   ]
  },
  {
   "cell_type": "markdown",
   "metadata": {},
   "source": [
    "# Project Description\n",
    "\n",
    "You will design and execute a machine learning project. There are a few constraints on the nature of the allowed project. \n",
    "- The problem addressed will not be a \"toy problem\" or \"common training students problem\" like mtcars, iris, palmer penguins etc.\n",
    "- The dataset will have >1k observations and >5 variables. I'd prefer more like >10k observations and >10 variables. A general rule is that if you have >100x more observations than variables, your solution will likely generalize a lot better. The goal of training a supervised machine learning model is to learn the underlying pattern in a dataset in order to generalize well to unseen data, so choosing a large dataset is very important.\n",
    "\n",
    "- The project will include a model selection and/or feature selection component where you will be looking for the best setup to maximize the performance of your ML system.\n",
    "- You will evaluate the performance of your ML system using more than one appropriate metric\n",
    "- You will be writing a report describing and discussing these accomplishments\n",
    "\n",
    "\n",
    "Feel free to delete this description section when you hand in your proposal."
   ]
  },
  {
   "cell_type": "markdown",
   "metadata": {},
   "source": [
    "### Peer Review\n",
    "\n",
    "You will all have an opportunity to look at the Project Proposals of other groups to fuel your creativity and get more ideas for how you can improve your own projects. \n",
    "\n",
    "Both the project proposal and project checkpoint will have peer review."
   ]
  },
  {
   "cell_type": "markdown",
   "metadata": {},
   "source": [
    "# Names\n",
    "\n",
    "- Kendrick Nguyen\n",
    "- Mason Pak\n",
    "- Noel Garcia"
   ]
  },
  {
   "cell_type": "markdown",
   "metadata": {},
   "source": [
    "# Abstract \n",
    "\n",
    "In this day and age, electric vehicles (EVs) are taking over the streets due to its outweighing benefits in being environmentally friendly, efficient, and gas-free. However, a significant barrier that preventing most households from switching to EVs is the convenience of charging stations. Thus, for our project we would like to create a model that predicts the availability of charging stations given inputs, such as maximum mileage, starting location and destination, and EV charging brands, to reassure the difficulties in road trip planning with EVs. \n",
    "\n",
    "Specific datasets we would employ for our model would be geographic and technical datasets of charging stations in the United States. All charging station observations will be trained using classification algorithms that would determine the optimal charging station for a test point, based on maximum mileage, starting location and destination, and EV charging brands. Metrics, such as precision, recall, F1 score, and AUC-ROC curve, will be used to measure the performance of the algorithms and models."
   ]
  },
  {
   "cell_type": "markdown",
   "metadata": {},
   "source": [
    "# Background\n",
    "\n",
    "With the explosive market growth for EVs and charging system’s development, driving electric has become a popular trend. However, a huge leap that prevents everyone from buying an EV would be its arised difficulties, specifically vehicle mileage restrictions, charging station density distribution between suburbs and cities, and battery capacity<a name=\"garling\"></a>[<sup>[1]</sup>](#garlingnote). Due to these issues, most households may prefer owning a gas vehicle for contemporary use. \n",
    "\n",
    "Relevant studies have addressed these difficulties by predicting the availability of charging stations and vehicle to home (V2H) services. Models used to optimize electricity bills have suggested that the less an EV is used for travelling, the greater its availability to participate in V2H services <a name=\"dominguez\"></a>[<sup>[2]</sup>](#domingueznote)."
   ]
  },
  {
   "cell_type": "markdown",
   "metadata": {},
   "source": [
    "# Problem Statement\n",
    "\n",
    "In the scope of this project, we would like to predict the availability of vehicle charging stations from inputs, such as maximum mileage, starting location and destination, and EV charging brands. \n",
    "\n",
    "The problem is quantifiable and measurable in the sense of converting the distance of the nearest and optimal charging station into probability estimates from classification algorithms. Some charging sites can vary its charging time and cost; in the scenario the model yields multiple charging stations, we could rely on a decision tree model to greedily pick the optimal station. Metrics, such as precision, recall, F1 score, and AUC-ROC curve, will be used to measure the performance of the algorithms and models. Road trip planning is a recurring in many lives; therefore, we would like to generalize our solution for all EV drivers. Since the dataset we are using continually updates fueling station locations in the United States, our solution would generalize over time as well."
   ]
  },
  {
   "cell_type": "markdown",
   "metadata": {},
   "source": [
    "# Data\n",
    "\n",
    "## Dataset 1: Electric & Alternative Fuel Charging Stations 2023\n",
    "- Link to the dataset: https://www.kaggle.com/datasets/saketpradhan/electric-and-alternative-fuel-charging-stations or, alternatively, https://afdc.energy.gov/stations/#/find/nearest\n",
    "- Number of observations: 65 variables, 70406 observations\n",
    "- Description: An observation consist of a vehicle class, station name, location details, schedules, EV-connector types, etc. Some critical variables would be vehicle class, location details (specifically represented as latitude and longitude values), EV-connector types. The dataset appears to have numerous null entries, requiring cleaning."
   ]
  },
  {
   "cell_type": "markdown",
   "metadata": {},
   "source": [
    "# Proposed Solution\n",
    "\n",
    "Our proposed solution to the problem is a model to assist road trip planning for EV drivers. We plan to utilize charging station observations from our dataset and estimate the distance between a starting location, ending location, and each other charging sites. The model will take inputs, such as maximum mileage, starting location and destination, and EV charging brands, to output a score of the relative available charging stations. As an potential feature, the model would output a map of an optimal route for a trip from starting location and destination.\n",
    "\n",
    "For this application, classification algorithms, such as DBSCAN and logistic regression, would convert distances of the nearest and optimal charging station into probability estimates. Our methodologies for obtaining these distances would be through the [Map Request API](https://developer.mapquest.com/) for routes. Some charging sites can vary its charging time and cost; in the scenario the model yields multiple charging stations, we could rely on a decision tree model to greedily pick the optimal station."
   ]
  },
  {
   "cell_type": "markdown",
   "metadata": {},
   "source": [
    "# Evaluation Metrics\n",
    "\n",
    "A evaluation metric to quantify the performance of the benchmark model and the solution model is utilize precision, recall, F1 score, and AUC-ROC curves. The benchmark model (or ground truths) in this case would default to the most nearest charging station distance in comarpison to the solution model which selects the optimal charging statoin for maximum mileage, EV port types, and charging cost."
   ]
  },
  {
   "cell_type": "markdown",
   "metadata": {},
   "source": [
    "# Ethics & Privacy"
   ]
  },
  {
   "cell_type": "markdown",
   "metadata": {},
   "source": [
    "Our project uses a dataset pertaining to all charging stations in the United States and their vehicle class, station name, location details, schedules, EV-connector types, etc. information. Our dataset was found on Kaggle, a specialized Data Science community that caters to publishing as public datasets, but was orginally published by the National Renewable Energy Laboratory. Some limitations or biases of our selected datasets is that it is exclusive to the population of United States and Canada. Therefore, our findings may not generalize to all all EV drivers and road trip plannings."
   ]
  },
  {
   "cell_type": "markdown",
   "metadata": {},
   "source": [
    "# Team Expectations "
   ]
  },
  {
   "cell_type": "markdown",
   "metadata": {},
   "source": [
    "- Attend planned meetings on time\n",
    "- Maintain communication/check-ins on Discord\n",
    "- Contribute an equal portion to the project\n",
    "- Understanding each others roles, strengths, and responsibilities"
   ]
  },
  {
   "cell_type": "markdown",
   "metadata": {},
   "source": [
    "# Project Timeline Proposal"
   ]
  },
  {
   "cell_type": "markdown",
   "metadata": {},
   "source": [
    "Replace this with something meaningful that is appropriate for your needs. It doesn't have to be something that fits this format.  It doesn't have to be set in stone... \"no battle plan survives contact with the enemy\". But you need a battle plan nonetheless, and you need to keep it updated so you understand what you are trying to accomplish, who's responsible for what, and what the expected due dates are for each item.\n",
    "\n",
    "| Meeting Date  | Meeting Time| Completed Before Meeting  | Discuss at Meeting |\n",
    "|---|---|---|---|\n",
    "| 5/17  | 11 AM  | Edit, finalize, and submit proposal; Search for datasets  | Discuss Wrangling and possible analytical approaches; Assign group members to lead each specific part   |\n",
    "| 5/24  | 11 AM  | Import & Wrangle Data ,do some EDA | Review/Edit wrangling/EDA; Discuss Analysis Plan   |\n",
    "| 5/31  | 11 AM  | Finalize wrangling/EDA; Begin programming for project | Discuss/edit project code; Complete project |\n",
    "| 6/7  | 11 AM  | Complete analysis; Draft results/conclusion/discussion | Discuss/edit full project |\n",
    "| 6/14  | Before 3:59 PM  | NA | Turn in Final Project  |"
   ]
  },
  {
   "cell_type": "markdown",
   "metadata": {},
   "source": [
    "# Footnotes\n",
    "\n",
    "<a name=\"garling\"></a>1.[^](#garlingnote): Gärling and Thøgersen (1 January 2001) \n",
    "Marketing of electric vehicles. https://onlinelibrary.wiley.com/doi/abs/10.1002/1099-0836(200101/02)10:1%3C53::AID-BSE270%3E3.0.CO;2-E?casa_token=_RWO6TVTsRYAAAAA:VnD9Pwogm8DFhk4PyXZYdFFZtxNb7t-CXYrPfmWHlr5zYd4aKK8HOB_SnysEVD1p5_K0TLTlOCak83o<br>\n",
    "\n",
    "<a name=\"dominguez\"></a>2.[^](#domingueznote): Aguilar-Dominguez,Donovan (February 2021) \n",
    "Machine learning approach for electric vehicle availability forecast to provide vehicle-to-home services. https://www.sciencedirect.com/science/article/pii/S2352484721001517<br>"
   ]
  },
  {
   "cell_type": "code",
   "execution_count": null,
   "metadata": {},
   "outputs": [],
   "source": []
  }
 ],
 "metadata": {
  "kernelspec": {
   "display_name": "Python 3 (ipykernel)",
   "language": "python",
   "name": "python3"
  },
  "language_info": {
   "codemirror_mode": {
    "name": "ipython",
    "version": 3
   },
   "file_extension": ".py",
   "mimetype": "text/x-python",
   "name": "python",
   "nbconvert_exporter": "python",
   "pygments_lexer": "ipython3",
   "version": "3.9.16"
  }
 },
 "nbformat": 4,
 "nbformat_minor": 2
}
